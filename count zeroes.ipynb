{
 "cells": [
  {
   "cell_type": "code",
   "execution_count": 5,
   "id": "2904b7ef-c8a9-4e39-8883-33446b62de55",
   "metadata": {},
   "outputs": [
    {
     "name": "stdin",
     "output_type": "stream",
     "text": [
      "Enter an integer:  2003\n"
     ]
    },
    {
     "name": "stdout",
     "output_type": "stream",
     "text": [
      "Number of zeroes: 2\n"
     ]
    }
   ],
   "source": [
    "def count_zeroes(n):\n",
    "    if n == 0:\n",
    "        return 1  # Edge case: single 0 should count as one\n",
    "    \n",
    "    if n < 10:\n",
    "        return 0  # Base case: single non-zero digit has no zeroes\n",
    "    \n",
    "    return (1 if n % 10 == 0 else 0) + count_zeroes(n // 10)\n",
    "\n",
    "n = int(input(\"Enter an integer: \"))\n",
    "print(\"Number of zeroes:\", count_zeroes(n))"
   ]
  },
  {
   "cell_type": "code",
   "execution_count": null,
   "id": "33094c3f-968d-4d37-bfc1-f863debb7105",
   "metadata": {},
   "outputs": [],
   "source": []
  }
 ],
 "metadata": {
  "kernelspec": {
   "display_name": "Python 3 (ipykernel)",
   "language": "python",
   "name": "python3"
  },
  "language_info": {
   "codemirror_mode": {
    "name": "ipython",
    "version": 3
   },
   "file_extension": ".py",
   "mimetype": "text/x-python",
   "name": "python",
   "nbconvert_exporter": "python",
   "pygments_lexer": "ipython3",
   "version": "3.12.4"
  }
 },
 "nbformat": 4,
 "nbformat_minor": 5
}
