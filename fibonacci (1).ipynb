{
 "cells": [
  {
   "cell_type": "code",
   "execution_count": null,
   "id": "8d7ad8ea-5198-4276-bdac-5c51833964f7",
   "metadata": {},
   "outputs": [],
   "source": [
    "def odd_fib(n):\n",
    "    if n == 0:\n",
    "        return 1\n",
    "    return even_fib(n - 1) + odd_fib(n - 1)\n",
    "\n",
    "def fibonacci(n):\n",
    "    if n % 2 == 0:\n",
    "        return even_fib(n // 2)\n",
    "    else:\n",
    "        return odd_fib(n // 2)\n",
    "\n",
    "n = int(input(\"Enter the number of terms: \"))\n",
    "print(\"Fibonacci series:\", [fibonacci(i) for i in range(n)])"
   ]
  },
  {
   "cell_type": "code",
   "execution_count": null,
   "id": "113106d9-636a-4800-8203-cb79d2e3eaec",
   "metadata": {},
   "outputs": [],
   "source": []
  }
 ],
 "metadata": {
  "kernelspec": {
   "display_name": "Python 3 (ipykernel)",
   "language": "python",
   "name": "python3"
  },
  "language_info": {
   "codemirror_mode": {
    "name": "ipython",
    "version": 3
   },
   "file_extension": ".py",
   "mimetype": "text/x-python",
   "name": "python",
   "nbconvert_exporter": "python",
   "pygments_lexer": "ipython3",
   "version": "3.12.4"
  }
 },
 "nbformat": 4,
 "nbformat_minor": 5
}
