{
 "cells": [
  {
   "cell_type": "code",
   "execution_count": 3,
   "id": "53448dd5-5b46-4343-a9ad-ff664c43ce4e",
   "metadata": {},
   "outputs": [
    {
     "name": "stdout",
     "output_type": "stream",
     "text": [
      "5\n"
     ]
    }
   ],
   "source": [
    "def count_digits(n):\n",
    "    if n < 10 and n >= 0:\n",
    "        return 1\n",
    "    else:\n",
    "        return 1 + count_digits(n // 10)\n",
    "        \n",
    "print(count_digits(12345))  "
   ]
  },
  {
   "cell_type": "code",
   "execution_count": null,
   "id": "d44b43a0-47f6-4024-85d8-9e9a104edc2f",
   "metadata": {},
   "outputs": [],
   "source": []
  }
 ],
 "metadata": {
  "kernelspec": {
   "display_name": "Python 3 (ipykernel)",
   "language": "python",
   "name": "python3"
  },
  "language_info": {
   "codemirror_mode": {
    "name": "ipython",
    "version": 3
   },
   "file_extension": ".py",
   "mimetype": "text/x-python",
   "name": "python",
   "nbconvert_exporter": "python",
   "pygments_lexer": "ipython3",
   "version": "3.12.4"
  }
 },
 "nbformat": 4,
 "nbformat_minor": 5
}
