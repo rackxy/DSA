{
 "cells": [
  {
   "cell_type": "code",
   "execution_count": null,
   "metadata": {},
   "outputs": [],
   "source": [
    "class Queue:\n",
    "    def __init__(self):\n",
    "        self.queue = []\n",
    "        self.max_queue = []\n",
    "\n",
    "    def enqueue(self, x):\n",
    "        self.queue.append(x)\n",
    "        while self.max_queue and self.max_queue[-1] < x:\n",
    "            self.max_queue.pop()\n",
    "        self.max_queue.append(x)\n",
    "\n",
    "    def dequeue(self):\n",
    "        if not self.queue:\n",
    "            raise IndexError(\"dequeue from an empty queue\")\n",
    "        value = self.queue.pop(0)\n",
    "        if value == self.max_queue[0]:\n",
    "            self.max_queue.pop(0)\n",
    "        return value\n",
    "\n",
    "    def max(self):\n",
    "        if not self.max_queue:\n",
    "            raise IndexError(\"max from an empty queue\")\n",
    "        return self.max_queue[0]\n",
    "\n",
    "# Example usage\n",
    "queue = Queue()\n",
    "queue.enqueue(1)\n",
    "queue.enqueue(3)\n",
    "queue.enqueue(2)\n",
    "print(queue.max())  \n",
    "queue.dequeue()\n",
    "print(queue.max())  \n",
    "queue.dequeue()\n",
    "print(queue.max())  "
   ]
  }
 ],
 "metadata": {
  "language_info": {
   "name": "python"
  }
 },
 "nbformat": 4,
 "nbformat_minor": 2
}
