{
 "cells": [
  {
   "cell_type": "code",
   "execution_count": null,
   "metadata": {},
   "outputs": [],
   "source": [
    "class Queue:\n",
    "    def __init__(self):\n",
    "        self.queue = []\n",
    "\n",
    "    def enqueue(self, x):\n",
    "        self.queue.append(x)\n",
    "\n",
    "    def dequeue(self):\n",
    "        if len(self.queue) == 0:\n",
    "            return None\n",
    "        return self.queue.pop(0)\n",
    "\n",
    "    def is_empty(self):\n",
    "        return len(self.queue) == 0\n",
    "\n",
    "def reverse_words(sentence):\n",
    "    words = sentence.split()\n",
    "    queue = Queue()\n",
    "    \n",
    "    for word in words:\n",
    "        queue.enqueue(word)\n",
    "    \n",
    "    reversed_words = []\n",
    "    while not queue.is_empty():\n",
    "        reversed_words.append(queue.dequeue())\n",
    "    \n",
    "    return ' '.join(reversed_words[::-1])\n",
    "\n",
    "\n",
    "input_sentence = \"Hello World\"\n",
    "output_sentence = reverse_words(input_sentence)\n",
    "print(output_sentence)  "
   ]
  }
 ],
 "metadata": {
  "language_info": {
   "name": "python"
  }
 },
 "nbformat": 4,
 "nbformat_minor": 2
}
