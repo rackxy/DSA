{
 "cells": [
  {
   "cell_type": "code",
   "execution_count": null,
   "id": "be27ab32-be77-4e14-85ae-10872c614d00",
   "metadata": {},
   "outputs": [],
   "source": [
    "def count_vowels(s):\n",
    "    # Base case: if the string is empty, return 0\n",
    "    if s == \"\":\n",
    "        return 0\n",
    "    # Check if the first character is a vowel\n",
    "    elif s[0].lower() in 'aeiou':\n",
    "        return 1 + count_vowels(s[1:])\n",
    "    # If the first character is not a vowel, continue with the rest of the string\n",
    "    else:\n",
    "        return count_vowels(s[1:])\n",
    "\n",
    "# Test the function\n",
    "print(count_vowels(\"Hello World\"))  # This should output 3 (e, o, o)"
   ]
  }
 ],
 "metadata": {
  "kernelspec": {
   "display_name": "Python 3 (ipykernel)",
   "language": "python",
   "name": "python3"
  },
  "language_info": {
   "codemirror_mode": {
    "name": "ipython",
    "version": 3
   },
   "file_extension": ".py",
   "mimetype": "text/x-python",
   "name": "python",
   "nbconvert_exporter": "python",
   "pygments_lexer": "ipython3",
   "version": "3.12.4"
  }
 },
 "nbformat": 4,
 "nbformat_minor": 5
}
